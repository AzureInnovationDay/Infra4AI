{
  "cells": [
    {
      "cell_type": "code",
      "source": [
        "pip install openai azure-identity --force"
      ],
      "outputs": [],
      "execution_count": null,
      "metadata": {
        "gather": {
          "logged": 1733679442123
        }
      }
    },
    {
      "cell_type": "code",
      "source": [
        "import os\n",
        "from azure.identity import DefaultAzureCredential, ManagedIdentityCredential, get_bearer_token_provider\n",
        "from openai import AzureOpenAI\n",
        "\n",
        "mi_id=os.environ.get(\"DEFAULT_IDENTITY_CLIENT_ID\")\n",
        "\n",
        "default_credential=ManagedIdentityCredential(client_id=mi_id)\n",
        "\n",
        "token_provider = get_bearer_token_provider(default_credential, \"https://cognitiveservices.azure.com/.default\")\n",
        "\n",
        "api_version = \"2024-02-01\"\n",
        "endpoint = \"https://xxxxxxx.openai.azure.com\"\n",
        "\n",
        "client = AzureOpenAI(\n",
        "    api_version=api_version,\n",
        "    azure_endpoint=endpoint,\n",
        "    azure_ad_token_provider=token_provider,\n",
        ")\n",
        "\n",
        "completion = client.chat.completions.create(\n",
        "    model=\"gpt-4o-mini\",  # model = \"deployment_name\"\n",
        "    messages=[\n",
        "        {\n",
        "            \"role\": \"user\",\n",
        "            \"content\": \"How do I output all files in a directory using Python?\",\n",
        "        },\n",
        "    ],\n",
        ")\n",
        "print(completion.model_dump_json(indent=2))"
      ],
      "outputs": [
        {
          "output_type": "stream",
          "name": "stdout",
          "text": "9efe2a42-b25c-42e3-bb9d-0fa151b53980\n{\n  \"id\": \"chatcmpl-AcFVll18Lw1R1W7HWGoiVH3h7gMzg\",\n  \"choices\": [\n    {\n      \"finish_reason\": \"stop\",\n      \"index\": 0,\n      \"logprobs\": null,\n      \"message\": {\n        \"content\": \"You can output all files in a directory using Python in several ways. One of the most common methods is to use the `os` module or the `pathlib` module. Below are examples using both methods.\\n\\n### Using the `os` module\\n\\n```python\\nimport os\\n\\n# Specify the directory you want to list\\ndirectory = '/path/to/your/directory'\\n\\n# List all files in the directory\\nfor filename in os.listdir(directory):\\n    # Create full path\\n    file_path = os.path.join(directory, filename)\\n    # Check if it is a file (not a directory)\\n    if os.path.isfile(file_path):\\n        print(filename)\\n```\\n\\n### Using the `pathlib` module (available in Python 3.4 and later)\\n\\n```python\\nfrom pathlib import Path\\n\\n# Specify the directory you want to list\\ndirectory = Path('/path/to/your/directory')\\n\\n# List all files in the directory\\nfor file in directory.iterdir():\\n    if file.is_file():\\n        print(file.name)\\n```\\n\\n### Explanation:\\n- For both examples, make sure to replace `'/path/to/your/directory'` with the actual path of the directory you want to inspect.\\n- The `os.listdir()` function returns all entries in the specified directory.\\n- The `os.path.isfile()` function checks if the path corresponds to a file.\\n- The `Path.iterdir()` method from the `pathlib` module iterates over all entries in the directory, and `is_file()` checks if the entry is a file.\\n\\nChoose the method that you prefer or that suits your project requirements!\",\n        \"refusal\": null,\n        \"role\": \"assistant\",\n        \"audio\": null,\n        \"function_call\": null,\n        \"tool_calls\": null\n      },\n      \"content_filter_results\": {\n        \"hate\": {\n          \"filtered\": false,\n          \"severity\": \"safe\"\n        },\n        \"protected_material_code\": {\n          \"filtered\": false,\n          \"detected\": false\n        },\n        \"protected_material_text\": {\n          \"filtered\": false,\n          \"detected\": false\n        },\n        \"self_harm\": {\n          \"filtered\": false,\n          \"severity\": \"safe\"\n        },\n        \"sexual\": {\n          \"filtered\": false,\n          \"severity\": \"safe\"\n        },\n        \"violence\": {\n          \"filtered\": false,\n          \"severity\": \"safe\"\n        }\n      }\n    }\n  ],\n  \"created\": 1733679453,\n  \"model\": \"gpt-4o-mini\",\n  \"object\": \"chat.completion\",\n  \"service_tier\": null,\n  \"system_fingerprint\": \"fp_04751d0b65\",\n  \"usage\": {\n    \"completion_tokens\": 326,\n    \"prompt_tokens\": 19,\n    \"total_tokens\": 345,\n    \"completion_tokens_details\": null,\n    \"prompt_tokens_details\": null\n  },\n  \"prompt_filter_results\": [\n    {\n      \"prompt_index\": 0,\n      \"content_filter_results\": {\n        \"hate\": {\n          \"filtered\": false,\n          \"severity\": \"safe\"\n        },\n        \"jailbreak\": {\n          \"filtered\": false,\n          \"detected\": false\n        },\n        \"self_harm\": {\n          \"filtered\": false,\n          \"severity\": \"safe\"\n        },\n        \"sexual\": {\n          \"filtered\": false,\n          \"severity\": \"safe\"\n        },\n        \"violence\": {\n          \"filtered\": false,\n          \"severity\": \"safe\"\n        }\n      }\n    }\n  ]\n}\n"
        }
      ],
      "execution_count": 1,
      "metadata": {
        "jupyter": {
          "source_hidden": false,
          "outputs_hidden": false
        },
        "nteract": {
          "transient": {
            "deleting": false
          }
        },
        "gather": {
          "logged": 1733679457449
        }
      }
    }
  ],
  "metadata": {
    "kernelspec": {
      "name": "python310-sdkv2",
      "language": "python",
      "display_name": "Python 3.10 - SDK v2"
    },
    "language_info": {
      "name": "python",
      "version": "3.10.14",
      "mimetype": "text/x-python",
      "codemirror_mode": {
        "name": "ipython",
        "version": 3
      },
      "pygments_lexer": "ipython3",
      "nbconvert_exporter": "python",
      "file_extension": ".py"
    },
    "microsoft": {
      "ms_spell_check": {
        "ms_spell_check_language": "en"
      },
      "host": {
        "AzureML": {
          "notebookHasBeenCompleted": true
        }
      }
    },
    "kernel_info": {
      "name": "python310-sdkv2"
    },
    "nteract": {
      "version": "nteract-front-end@1.0.0"
    }
  },
  "nbformat": 4,
  "nbformat_minor": 2
}
