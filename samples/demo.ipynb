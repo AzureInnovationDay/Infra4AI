 {
  "cells": [
    {
      "cell_type": "code",
      "source": [
        "pip install openai azure-identity --force"
      ],
      "outputs": [],
      "execution_count": null,
      "metadata": {
        "gather": {
          "logged": 1733679442123
        }
      }
    },
    {
      "cell_type": "code",
      "source": [
        "import os\n",
        "from azure.identity import DefaultAzureCredential, ManagedIdentityCredential, get_bearer_token_provider\n",
        "from openai import AzureOpenAI\n",
        "\n",
        "mi_id=os.environ.get(\"DEFAULT_IDENTITY_CLIENT_ID\")\n",
        "\n",
        "default_credential=ManagedIdentityCredential(client_id=mi_id)\n",
        "\n",
        "token_provider = get_bearer_token_provider(default_credential, \"https://cognitiveservices.azure.com/.default\")\n",
        "\n",
        "api_version = \"2024-02-01\"\n",
        "endpoint = \"https://xxxxxxxx.openai.azure.com\"\n",
        "\n",
        "client = AzureOpenAI(\n",
        "    api_version=api_version,\n",
        "    azure_endpoint=endpoint,\n",
        "    azure_ad_token_provider=token_provider,\n",
        ")\n",
        "\n",
        "completion = client.chat.completions.create(\n",
        "    model=\"gpt-4o-mini\",  # model = \"deployment_name\"\n",
        "    messages=[\n",
        "        {\n",
        "            \"role\": \"user\",\n",
        "            \"content\": \"How do I output all files in a directory using Python?\",\n",
        "        },\n",
        "    ],\n",
        ")\n",
        "print(completion.model_dump_json(indent=2))"
      ],
      "outputs": [],
      "execution_count": null,
      "metadata": {
        "jupyter": {
          "source_hidden": false,
          "outputs_hidden": false
        },
        "nteract": {
          "transient": {
            "deleting": false
          }
        },
        "gather": {
          "logged": 1733679457449
        }
      }
    }
  ],
  "metadata": {
    "kernelspec": {
      "name": "python310-sdkv2",
      "language": "python",
      "display_name": "Python 3.10 - SDK v2"
    },
    "language_info": {
      "name": "python",
      "version": "3.10.14",
      "mimetype": "text/x-python",
      "codemirror_mode": {
        "name": "ipython",
        "version": 3
      },
      "pygments_lexer": "ipython3",
      "nbconvert_exporter": "python",
      "file_extension": ".py"
    },
    "microsoft": {
      "ms_spell_check": {
        "ms_spell_check_language": "en"
      },
      "host": {
        "AzureML": {
          "notebookHasBeenCompleted": true
        }
      }
    },
    "kernel_info": {
      "name": "python310-sdkv2"
    },
    "nteract": {
      "version": "nteract-front-end@1.0.0"
    }
  },
  "nbformat": 4,
  "nbformat_minor": 2
}
